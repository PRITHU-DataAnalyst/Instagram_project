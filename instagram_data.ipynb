{
 "cells": [
  {
   "cell_type": "code",
   "execution_count": null,
   "id": "cb0c293f",
   "metadata": {},
   "outputs": [],
   "source": [
    "#short list ideas (instagram ids)\n",
    "#what information do we need\n",
    "# hasgtag in a post\n",
    "# date a post was posted(timestamp)\n",
    "# business category of account\n",
    "# account name\n",
    "# grain the data (level of details)\n",
    "# hastags, date-week, business category, count"
   ]
  },
  {
   "cell_type": "code",
   "execution_count": 1,
   "id": "411e1ad6",
   "metadata": {},
   "outputs": [
    {
     "ename": "SyntaxError",
     "evalue": "invalid syntax (2840904901.py, line 5)",
     "output_type": "error",
     "traceback": [
      "\u001b[1;36m  Input \u001b[1;32mIn [1]\u001b[1;36m\u001b[0m\n\u001b[1;33m    data_import = pd.read_jason/csv(filepath, nrow= use to extract no. of rows from data)\u001b[0m\n\u001b[1;37m                                                        ^\u001b[0m\n\u001b[1;31mSyntaxError\u001b[0m\u001b[1;31m:\u001b[0m invalid syntax\n"
     ]
    }
   ],
   "source": [
    "import pandas as pd\n",
    "\n",
    "filepath = \"data/your data file\"\n",
    "\n",
    "data_import = pd.read_jason/csv(filepath, nrow= use to extract no. of rows from data)\n",
    "data_import.head(3) # extracting first 3 rows"
   ]
  },
  {
   "cell_type": "code",
   "execution_count": null,
   "id": "02d8639a",
   "metadata": {},
   "outputs": [],
   "source": [
    "data_import.columns (show columns and count)\n",
    "# once you all the columns name select one that you wanna work on"
   ]
  },
  {
   "cell_type": "code",
   "execution_count": null,
   "id": "243af1f3",
   "metadata": {},
   "outputs": [],
   "source": [
    "#create function\n",
    "def data_creator(data_import):\n",
    "    data_import = data_import[['column1, column2', and so on]]"
   ]
  },
  {
   "cell_type": "code",
   "execution_count": null,
   "id": "e545e4ae",
   "metadata": {},
   "outputs": [],
   "source": [
    "impoert regex\n",
    "\n",
    "import re\n",
    "temp = data_import[\"posts\"][0][0][\"captions\"]\n",
    "re.findall(r\"#(\\w+)\", temp)\n",
    "\n",
    "\n",
    "#create a list for coulums you wanna examine\n",
    "\n",
    "column1_list = list(data_import[\"column1\"])\n",
    "column2_list = list(data_import[\"column2\"])\n",
    "\n",
    "hastags_list = []\n",
    "post_date_list = []\n",
    "\n",
    "for i in range(len(data_import)):\n",
    "    posts = data_import.iloc[i, 0] # i is row and 0 is first column\n",
    "    inner_hastags_list = []\n",
    "    inner_post_date_list = []\n",
    "    for post in posts:\n",
    "        inner_hastags_list.append(post[\"datetime\"])\n",
    "        inner_hastags_list.append(re.findall(r\"#(\\w+)\", post[\"captions\"]))\n",
    "    hastags_list.append(inner_hastags_list)\n",
    "    post_date_list.append(inner_post_date_list)\n",
    "    \n",
    "# calling def data_creator function\n",
    "return columns1_list, columns2_list, hastags_list, post_date_list \n",
    "        \n",
    "        \n",
    "# iterate through thr row using for loop\n",
    "    # pull the hasttags in captions\n",
    "    # pull datetime\n",
    "    \n",
    "data_import['posts'][0][0] # 0 are python index here"
   ]
  },
  {
   "cell_type": "code",
   "execution_count": null,
   "id": "a5e78bba",
   "metadata": {},
   "outputs": [],
   "source": [
    "#call function\n",
    "hastags_list "
   ]
  },
  {
   "cell_type": "code",
   "execution_count": null,
   "id": "6ebb5fea",
   "metadata": {},
   "outputs": [],
   "source": []
  },
  {
   "cell_type": "code",
   "execution_count": null,
   "id": "eb024ca5",
   "metadata": {},
   "outputs": [],
   "source": [
    "# combine account and hastags associated with them\n",
    "dict(zip(account_list, hastags_list))"
   ]
  },
  {
   "cell_type": "code",
   "execution_count": null,
   "id": "1d51c038",
   "metadata": {},
   "outputs": [],
   "source": [
    "#create a list of file pathe and itterating through\n",
    "import os\n",
    "filepaths = [\"data/\" + i for i in os.listdir(\"data\")]\n",
    "filepaths\n",
    "all_data = []\n",
    "for file in filepaths:\n",
    "    read_file = pd.read_jason/csv(file)\n",
    "    data = data_creator(read_file)\n",
    "    all_data.append(data)"
   ]
  }
 ],
 "metadata": {
  "kernelspec": {
   "display_name": "Python 3",
   "language": "python",
   "name": "python3"
  },
  "language_info": {
   "codemirror_mode": {
    "name": "ipython",
    "version": 3
   },
   "file_extension": ".py",
   "mimetype": "text/x-python",
   "name": "python",
   "nbconvert_exporter": "python",
   "pygments_lexer": "ipython3",
   "version": "3.9.12"
  }
 },
 "nbformat": 4,
 "nbformat_minor": 5
}
